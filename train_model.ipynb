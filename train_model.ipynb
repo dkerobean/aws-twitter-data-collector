{
 "cells": [
  {
   "cell_type": "code",
   "execution_count": null,
   "metadata": {},
   "outputs": [],
   "source": [
    "import sagemaker\n",
    "from sagemaker import LinearLearner\n",
    "\n",
    "# Setup SageMaker session and role\n",
    "sess = sagemaker.Session()\n",
    "role = 'your_sagemaker_execution_role'\n",
    "bucket = 'your_s3_bucket_name'\n",
    "\n",
    "# Define the Linear Learner model\n",
    "linear = LinearLearner(\n",
    "    role=role,\n",
    "    instance_count=1,\n",
    "    instance_type='ml.m4.xlarge',\n",
    "    predictor_type='regressor',\n",
    "    output_path=f's3://{bucket}/output'\n",
    ")\n",
    "\n",
    "# Train the model\n",
    "train_data = f's3://{bucket}/train_data.csv'\n",
    "linear.fit({'train': train_data})\n",
    "\n",
    "# Deploy the model\n",
    "linear_predictor = linear.deploy(initial_instance_count=1, instance_type='ml.m4.xlarge')\n",
    "\n",
    "# Test the model\n",
    "test_data = f's3://{bucket}/test_data.csv'\n",
    "predictions = linear_predictor.predict(test_data)\n",
    "print(predictions)"
   ]
  }
 ],
 "metadata": {
  "language_info": {
   "name": "python"
  },
  "orig_nbformat": 4
 },
 "nbformat": 4,
 "nbformat_minor": 2
}
