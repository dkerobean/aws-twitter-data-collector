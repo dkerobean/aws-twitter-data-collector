{
 "cells": [
  {
   "cell_type": "code",
   "execution_count": null,
   "metadata": {},
   "outputs": [],
   "source": [
    "import boto3\n",
    "import pandas as pd\n",
    "import json\n",
    "\n",
    "# Initialize the S3 client\n",
    "s3 = boto3.client('s3')\n",
    "\n",
    "# Define the S3 bucket and file name\n",
    "bucket_name = 'dickson-youtube-stream-data-json'\n",
    "file_name = 'youtube_stream_data.json'\n",
    "\n",
    "# Load data from S3\n",
    "obj = s3.get_object(Bucket=bucket_name, Key=file_name)\n",
    "data = json.loads(obj['Body'].read().decode('utf-8'))\n",
    "\n",
    "# Convert data to DataFrame\n",
    "df = pd.json_normalize(data)\n",
    "\n",
    "# Display the DataFrame structure\n",
    "print(df.head())\n",
    "print(df.columns)"
   ]
  },
  {
   "cell_type": "code",
   "execution_count": null,
   "metadata": {},
   "outputs": [],
   "source": [
    "# Normalize the JSON data to flatten it\n",
    "df = pd.json_normalize(data, sep='_')\n",
    "\n",
    "# Display the DataFrame structure again to verify\n",
    "print(df.head())\n",
    "print(df.columns)"
   ]
  },
  {
   "cell_type": "code",
   "execution_count": null,
   "metadata": {},
   "outputs": [],
   "source": [
    "import plotly.express as px\n",
    "\n",
    "# Example using plotly.express\n",
    "fig = px.bar(df, x='snippet_channelTitle', y='snippet_channelTitle', \n",
    "             color='snippet_channelTitle', \n",
    "             labels={'snippet_channelTitle': 'Number of Videos per Channel'},\n",
    "             title='Number of Videos per Channel')\n",
    "\n",
    "fig.show()"
   ]
  }
 ],
 "metadata": {
  "language_info": {
   "name": "python"
  },
  "orig_nbformat": 4
 },
 "nbformat": 4,
 "nbformat_minor": 2
}
