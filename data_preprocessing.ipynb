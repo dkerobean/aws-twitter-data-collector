{
 "cells": [
  {
   "cell_type": "code",
   "execution_count": null,
   "metadata": {},
   "outputs": [],
   "source": [
    "import boto3\n",
    "import pandas as pd\n",
    "from data_preprocessing import preprocess_data\n",
    "\n",
    "# Load data from S3\n",
    "s3 = boto3.client('s3')\n",
    "bucket_name = 'your_s3_bucket_name'\n",
    "file_name = 'youtube_stream_data.json'\n",
    "\n",
    "response = s3.get_object(Bucket=bucket_name, Key=file_name)\n",
    "data = pd.read_json(response['Body'].read().decode('utf-8'))\n",
    "\n",
    "# Preprocess data\n",
    "train_data, test_data = preprocess_data(data)\n",
    "\n",
    "# Save preprocessed data to S3\n",
    "s3.put_object(Bucket=bucket_name, Key='train_data.csv', Body=train_data)\n",
    "s3.put_object(Bucket=bucket_name, Key='test_data.csv', Body=test_data)"
   ]
  }
 ],
 "metadata": {
  "language_info": {
   "name": "python"
  },
  "orig_nbformat": 4
 },
 "nbformat": 4,
 "nbformat_minor": 2
}
